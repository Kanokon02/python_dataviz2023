{
  "nbformat": 4,
  "nbformat_minor": 0,
  "metadata": {
    "colab": {
      "provenance": [],
      "authorship_tag": "ABX9TyMmRX3As670GDxZbuYsHJuw",
      "include_colab_link": true
    },
    "kernelspec": {
      "name": "python3",
      "display_name": "Python 3"
    },
    "language_info": {
      "name": "python"
    }
  },
  "cells": [
    {
      "cell_type": "markdown",
      "metadata": {
        "id": "view-in-github",
        "colab_type": "text"
      },
      "source": [
        "<a href=\"https://colab.research.google.com/github/Kanokon02/python_dataviz2023/blob/main/python1.ipynb\" target=\"_parent\"><img src=\"https://colab.research.google.com/assets/colab-badge.svg\" alt=\"Open In Colab\"/></a>"
      ]
    },
    {
      "cell_type": "markdown",
      "source": [
        "##print() -> separator"
      ],
      "metadata": {
        "id": "CqF971JR6qKO"
      }
    },
    {
      "cell_type": "code",
      "source": [
        "print('stat','สถิติ')"
      ],
      "metadata": {
        "colab": {
          "base_uri": "https://localhost:8080/"
        },
        "id": "gq-6srto6tis",
        "outputId": "f981090b-72c2-4e1b-c5bd-1835bd549b39"
      },
      "execution_count": 2,
      "outputs": [
        {
          "output_type": "stream",
          "name": "stdout",
          "text": [
            "stat สถิติ\n"
          ]
        }
      ]
    },
    {
      "cell_type": "code",
      "source": [
        "print('stat','สถิติ',sep='') #sep ระยะห่าง"
      ],
      "metadata": {
        "colab": {
          "base_uri": "https://localhost:8080/"
        },
        "id": "v25c65jp6w03",
        "outputId": "63711413-8bee-4569-b5cb-4d3f11da50fe"
      },
      "execution_count": 3,
      "outputs": [
        {
          "output_type": "stream",
          "name": "stdout",
          "text": [
            "statสถิติ\n"
          ]
        }
      ]
    },
    {
      "cell_type": "markdown",
      "source": [
        "##print() -> end"
      ],
      "metadata": {
        "id": "z1RE5dM66yf2"
      }
    },
    {
      "cell_type": "code",
      "source": [
        "print('stat')\n",
        "print('SIDS')"
      ],
      "metadata": {
        "colab": {
          "base_uri": "https://localhost:8080/"
        },
        "id": "WEdjzSIn61Bd",
        "outputId": "bfe43749-3e64-4bf3-9045-7b9c5a1b5c76"
      },
      "execution_count": 4,
      "outputs": [
        {
          "output_type": "stream",
          "name": "stdout",
          "text": [
            "stat\n",
            "SIDS\n"
          ]
        }
      ]
    },
    {
      "cell_type": "code",
      "source": [
        "print('stat', end=', ')\n",
        "print('SIDS')"
      ],
      "metadata": {
        "colab": {
          "base_uri": "https://localhost:8080/"
        },
        "id": "nflpdF_t62_9",
        "outputId": "34ef199c-ff38-418c-dbdf-14349404eeb0"
      },
      "execution_count": 5,
      "outputs": [
        {
          "output_type": "stream",
          "name": "stdout",
          "text": [
            "stat, SIDS\n"
          ]
        }
      ]
    },
    {
      "cell_type": "markdown",
      "source": [
        "#ชนิดของตัวแปร (variable)"
      ],
      "metadata": {
        "id": "2fuepKiL65MF"
      }
    },
    {
      "cell_type": "code",
      "source": [
        "a = 12\n",
        "b = 1.3"
      ],
      "metadata": {
        "id": "V_E1Aw_D694B"
      },
      "execution_count": 6,
      "outputs": []
    },
    {
      "cell_type": "code",
      "source": [
        "a = 12\n",
        "b = 1.3"
      ],
      "metadata": {
        "id": "lY-VIxhl6_-I"
      },
      "execution_count": 7,
      "outputs": []
    },
    {
      "cell_type": "code",
      "source": [
        "c = a/b\n",
        "c"
      ],
      "metadata": {
        "colab": {
          "base_uri": "https://localhost:8080/"
        },
        "id": "ARs5khha7CqR",
        "outputId": "67e7297d-9404-4f33-fa8b-d70036897ffe"
      },
      "execution_count": 8,
      "outputs": [
        {
          "output_type": "execute_result",
          "data": {
            "text/plain": [
              "9.23076923076923"
            ]
          },
          "metadata": {},
          "execution_count": 8
        }
      ]
    },
    {
      "cell_type": "markdown",
      "source": [
        "modulo (%) การหารเอาเศษ"
      ],
      "metadata": {
        "id": "QiR_UDcI7FqP"
      }
    },
    {
      "cell_type": "code",
      "source": [
        "7%4"
      ],
      "metadata": {
        "colab": {
          "base_uri": "https://localhost:8080/"
        },
        "id": "M-vaRyep7Iro",
        "outputId": "e3318f56-908e-4217-c354-9ae7e3c07ef5"
      },
      "execution_count": 9,
      "outputs": [
        {
          "output_type": "execute_result",
          "data": {
            "text/plain": [
              "3"
            ]
          },
          "metadata": {},
          "execution_count": 9
        }
      ]
    },
    {
      "cell_type": "markdown",
      "source": [
        "ยกกำลัง (**)"
      ],
      "metadata": {
        "id": "ua2RZV6n7Ksv"
      }
    },
    {
      "cell_type": "code",
      "source": [
        "2**10"
      ],
      "metadata": {
        "colab": {
          "base_uri": "https://localhost:8080/"
        },
        "id": "KHBnwJhZ7NTX",
        "outputId": "ffd7bc8b-322f-4ad0-b3e4-2dc225a0b30c"
      },
      "execution_count": 10,
      "outputs": [
        {
          "output_type": "execute_result",
          "data": {
            "text/plain": [
              "1024"
            ]
          },
          "metadata": {},
          "execution_count": 10
        }
      ]
    },
    {
      "cell_type": "markdown",
      "source": [
        "## string ( ' ' &\" \")"
      ],
      "metadata": {
        "id": "X3HeeIkN7Ws2"
      }
    },
    {
      "cell_type": "code",
      "source": [
        "'1'+'3'"
      ],
      "metadata": {
        "colab": {
          "base_uri": "https://localhost:8080/",
          "height": 34
        },
        "id": "38i5WYpF7YW6",
        "outputId": "e181ac26-38a2-452e-af2d-51dd3c1fe648"
      },
      "execution_count": 12,
      "outputs": [
        {
          "output_type": "execute_result",
          "data": {
            "text/plain": [
              "'13'"
            ],
            "application/vnd.google.colaboratory.intrinsic+json": {
              "type": "string"
            }
          },
          "metadata": {},
          "execution_count": 12
        }
      ]
    },
    {
      "cell_type": "markdown",
      "source": [
        "#Quiz 1\n",
        "print มาก ที่มี ก. 100 ตัว"
      ],
      "metadata": {
        "id": "QeiatWbd5Ru3"
      }
    },
    {
      "cell_type": "code",
      "execution_count": 1,
      "metadata": {
        "colab": {
          "base_uri": "https://localhost:8080/",
          "height": 34
        },
        "id": "h-pletug4-MG",
        "outputId": "81b02024-d92e-4160-df8d-1cb9ebbc5f1b"
      },
      "outputs": [
        {
          "output_type": "execute_result",
          "data": {
            "text/plain": [
              "'มากกกกกกกกกกกกกกกกกกกกกกกกกกกกกกกกกกกกกกกกกกกกกกกกกกกกกกกกกกกกกกกกกกกกกกกกกกกกกกกกกกกกกกกกกกกกกกกกกกกก'"
            ],
            "application/vnd.google.colaboratory.intrinsic+json": {
              "type": "string"
            }
          },
          "metadata": {},
          "execution_count": 1
        }
      ],
      "source": [
        "'มา'+'ก'*100"
      ]
    },
    {
      "cell_type": "markdown",
      "source": [
        "## ข้อกำหนดในการตั้งชื่อตัวแปร\n",
        "1. พยายามตั้งชื่อให้สื่อความหมาย\n",
        "2. ต้องเป็นภาษาอังกฤษ\n",
        "3. ใช้ตัวเลขผสมกับตัวหนังสือได้ แต่ห้ามขึ้นต้นด้วยตัวเลข\n",
        "4. ห้ามมีเว้นวรรคในชื่อตัวแปร\n",
        "5.ตัวใหญ่ตัวเล็ก มีค่าไม่เท่ากัน"
      ],
      "metadata": {
        "id": "19BQ1w6LArYL"
      }
    },
    {
      "cell_type": "markdown",
      "source": [
        "## Advanced Printing ( print code ร่วมกับข้อความ)\n",
        "เราสามารถ print code ร่วมกับข้อความได้\n",
        "\n",
        "```python\n",
        "print(f'ข้อความ{code}')\n",
        "```\n",
        "\n",
        "```Python\n",
        "print(f'หนึ่ง บวก สอง (1+2) เท่ากับ สาม ({1+2})')\n",
        "```"
      ],
      "metadata": {
        "id": "ioBKz9DSW-aJ"
      }
    },
    {
      "cell_type": "code",
      "source": [
        "print(f'หนึ่ง บวก สอง (1+2) เท่ากับ สาม ({1+2})')  # {}  Curly Brackets เอาไว้ใส่ code"
      ],
      "metadata": {
        "colab": {
          "base_uri": "https://localhost:8080/"
        },
        "id": "EWWpPiEAifRy",
        "outputId": "19ec74a0-4c83-4272-a144-910aff549f79"
      },
      "execution_count": null,
      "outputs": [
        {
          "output_type": "stream",
          "name": "stdout",
          "text": [
            "หนึ่ง บวก สอง (1+2) เท่ากับ สาม (3)\n"
          ]
        }
      ]
    },
    {
      "cell_type": "code",
      "source": [
        "print(f'ตัวแปร c = {c}')"
      ],
      "metadata": {
        "colab": {
          "base_uri": "https://localhost:8080/"
        },
        "id": "xE-MDWHcCz4H",
        "outputId": "47c7e3a9-d722-4816-e9c0-2c49ecf325b3"
      },
      "execution_count": 13,
      "outputs": [
        {
          "output_type": "stream",
          "name": "stdout",
          "text": [
            "ตัวแปร c = 9.23076923076923\n"
          ]
        }
      ]
    },
    {
      "cell_type": "code",
      "source": [
        "print(f'ส่วนนี้ไม่ใช่ code>2*3 3-5 // ส่วนของ code>{2*3} {3-5}')"
      ],
      "metadata": {
        "colab": {
          "base_uri": "https://localhost:8080/"
        },
        "id": "u64NGXiCYKgM",
        "outputId": "aa0be1c7-03fd-48db-9014-5fe200779a79"
      },
      "execution_count": null,
      "outputs": [
        {
          "output_type": "stream",
          "name": "stdout",
          "text": [
            "ส่วนนี้ไม่ใช่ code>2*3 3-5 // ส่วนของ code>6 -2\n"
          ]
        }
      ]
    },
    {
      "cell_type": "code",
      "source": [
        "a = 1\n",
        "b = 2\n",
        "print(f'หนึ่ง บวก สอง ({a}+{b}) เท่ากับ สาม ({a+b})')"
      ],
      "metadata": {
        "colab": {
          "base_uri": "https://localhost:8080/"
        },
        "id": "mVxIA-ygZQ87",
        "outputId": "3418b74c-e011-4961-cf12-f952cd748b30"
      },
      "execution_count": null,
      "outputs": [
        {
          "output_type": "stream",
          "name": "stdout",
          "text": [
            "หนึ่ง บวก สอง (1+2) เท่ากับ สาม (3)\n"
          ]
        }
      ]
    },
    {
      "cell_type": "code",
      "source": [
        "a = 5\n",
        "b = 2"
      ],
      "metadata": {
        "id": "BMWLQp3HaPZ7"
      },
      "execution_count": 14,
      "outputs": []
    },
    {
      "cell_type": "code",
      "source": [
        "print(f'{a}+{b} = {a+b}')"
      ],
      "metadata": {
        "colab": {
          "base_uri": "https://localhost:8080/"
        },
        "id": "060E9xI7tJaG",
        "outputId": "a7add3b1-7147-4767-f300-eeb0e0a94360"
      },
      "execution_count": 15,
      "outputs": [
        {
          "output_type": "stream",
          "name": "stdout",
          "text": [
            "5+2 = 7\n"
          ]
        }
      ]
    },
    {
      "cell_type": "markdown",
      "source": [
        "decimal places (ทศนิยมกี่ตำแหน่ง)"
      ],
      "metadata": {
        "id": "KTES15QyDwc6"
      }
    },
    {
      "cell_type": "code",
      "source": [
        "f'{1.009:.2f}'"
      ],
      "metadata": {
        "colab": {
          "base_uri": "https://localhost:8080/",
          "height": 34
        },
        "id": "Cye-eg40ECF2",
        "outputId": "211c8a61-7240-4308-8f01-214c2e151166"
      },
      "execution_count": 19,
      "outputs": [
        {
          "output_type": "execute_result",
          "data": {
            "text/plain": [
              "'1.01'"
            ],
            "application/vnd.google.colaboratory.intrinsic+json": {
              "type": "string"
            }
          },
          "metadata": {},
          "execution_count": 19
        }
      ]
    },
    {
      "cell_type": "markdown",
      "source": [
        "digit"
      ],
      "metadata": {
        "id": "4ERAn__lF0_u"
      }
    },
    {
      "cell_type": "code",
      "source": [
        "f'{1:03d}'"
      ],
      "metadata": {
        "colab": {
          "base_uri": "https://localhost:8080/",
          "height": 34
        },
        "id": "AJh_He4kF574",
        "outputId": "9d3f5de4-1546-4400-905e-67c719f653ab"
      },
      "execution_count": 20,
      "outputs": [
        {
          "output_type": "execute_result",
          "data": {
            "text/plain": [
              "'001'"
            ],
            "application/vnd.google.colaboratory.intrinsic+json": {
              "type": "string"
            }
          },
          "metadata": {},
          "execution_count": 20
        }
      ]
    }
  ]
}