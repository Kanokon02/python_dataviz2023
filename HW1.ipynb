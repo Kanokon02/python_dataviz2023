{
  "nbformat": 4,
  "nbformat_minor": 0,
  "metadata": {
    "colab": {
      "provenance": [],
      "authorship_tag": "ABX9TyN/wsTUCZFjj/d+Ndcuke8y",
      "include_colab_link": true
    },
    "kernelspec": {
      "name": "python3",
      "display_name": "Python 3"
    },
    "language_info": {
      "name": "python"
    }
  },
  "cells": [
    {
      "cell_type": "markdown",
      "metadata": {
        "id": "view-in-github",
        "colab_type": "text"
      },
      "source": [
        "<a href=\"https://colab.research.google.com/github/Kanokon02/python_dataviz2023/blob/main/HW1.ipynb\" target=\"_parent\"><img src=\"https://colab.research.google.com/assets/colab-badge.svg\" alt=\"Open In Colab\"/></a>"
      ]
    },
    {
      "cell_type": "markdown",
      "source": [
        "HW1\n",
        "\n",
        "คำนวณว่า ช่วงเวลาต่อไปนี้ ห่างกันกี่ ชั่วโมง กี่นาที กี่วินาที (print ออกมาให้สวยงาม)\n",
        "\n",
        "- 12:30:15 - 13:41:07\n",
        "- 09:11:50 - 21:30:15\n",
        "- 19:25:30 - 03:10:15"
      ],
      "metadata": {
        "id": "VmlyZcIz9gCD"
      }
    },
    {
      "cell_type": "code",
      "source": [
        "#12:30:15 - 13:41:07\n",
        "start = '12:30:15'\n",
        "end = '13:41:07'\n",
        "spstart = start.split(':')\n",
        "spend = end.split(':')\n",
        "secst = int(spstart[0])*3600 + int(spstart[1])*60 +int(spstart[2])\n",
        "secend =  int(spend[0])*3600 + int(spend[1])*60 +int(spend[2])\n",
        "diff = secend - secst\n",
        "hr1 = int(diff/3600)\n",
        "min = diff%3600\n",
        "min1 = int(min/60)\n",
        "sec1 = min%60\n",
        "one = print(f'ช่วงเวลา 12:30:15 - 13:41:07 ห่างกัน  {hr1} ชั่วโมง {min1} นาที {sec1} วินาที')"
      ],
      "metadata": {
        "colab": {
          "base_uri": "https://localhost:8080/"
        },
        "id": "9BoJt3tM5BCJ",
        "outputId": "de008a1b-c6b3-423f-a764-676f2f2bd8fa"
      },
      "execution_count": 1,
      "outputs": [
        {
          "output_type": "stream",
          "name": "stdout",
          "text": [
            "ช่วงเวลา 12:30:15 - 13:41:07 ห่างกัน  1 ชั่วโมง 10 นาที 52 วินาที\n"
          ]
        }
      ]
    },
    {
      "cell_type": "code",
      "source": [
        "#09:11:50 - 21:30:15\n",
        "start = '09:11:50'\n",
        "end = '21:30:15'\n",
        "spstart = start.split(':')\n",
        "spend = end.split(':')\n",
        "secst = int(spstart[0])*3600 + int(spstart[1])*60 +int(spstart[2])\n",
        "secend =  int(spend[0])*3600 + int(spend[1])*60 +int(spend[2])\n",
        "diff = secend - secst\n",
        "hr1 = int(diff/3600)\n",
        "min = diff%3600\n",
        "min1 = int(min/60)\n",
        "sec1 = min%60\n",
        "two = print(f'ช่วงเวลา 09:11:50 - 21:30:15 ห่างกัน  {hr1} ชั่วโมง {min1} นาที {sec1} วินาที')"
      ],
      "metadata": {
        "colab": {
          "base_uri": "https://localhost:8080/"
        },
        "id": "KWToAytl708x",
        "outputId": "a8eea209-40a5-4fc0-9f47-cbd44941b54d"
      },
      "execution_count": 2,
      "outputs": [
        {
          "output_type": "stream",
          "name": "stdout",
          "text": [
            "ช่วงเวลา 09:11:50 - 21:30:15 ห่างกัน  12 ชั่วโมง 18 นาที 25 วินาที\n"
          ]
        }
      ]
    },
    {
      "cell_type": "code",
      "source": [
        "#19:25:30 - 03:10:15\n",
        "start1 = '19:25:30'\n",
        "end1 = '24:00:00'\n",
        "spstart1 = start1.split(':')\n",
        "spend1 = end1.split(':')\n",
        "secst1 = int(spstart1[0])*3600 + int(spstart1[1])*60 +int(spstart1[2])\n",
        "secend1 =  int(spend1[0])*3600 + int(spend1[1])*60 +int(spend1[2])\n",
        "day1 = secend1 - secst1\n",
        "start2 = '00:00:00'\n",
        "end2 = '03:10:15'\n",
        "spstart2 = start2.split(':')\n",
        "spend2 = end2.split(':')\n",
        "secst2 = int(spstart2[0])*3600 + int(spstart2[1])*60 +int(spstart2[2])\n",
        "secend2 =  int(spend2[0])*3600 + int(spend2[1])*60 +int(spend2[2])\n",
        "day2 = secend2 - secst2\n",
        "sum2day = day1 + day2\n",
        "hrsum = int(sum2day/3600)\n",
        "min1 = sum2day%3600\n",
        "minsum = int(min1/60)\n",
        "secsum = min1%60\n",
        "three = print(f'ช่วงเวลา 19:25:30 - 03:10:15 ห่างกัน  {hrsum} ชั่วโมง {minsum} นาที {secsum} วินาที')"
      ],
      "metadata": {
        "colab": {
          "base_uri": "https://localhost:8080/"
        },
        "id": "FDU00coVW00y",
        "outputId": "e427db5e-d57e-4e3e-e264-cd0fcc04eb52"
      },
      "execution_count": 3,
      "outputs": [
        {
          "output_type": "stream",
          "name": "stdout",
          "text": [
            "ช่วงเวลา 19:25:30 - 03:10:15 ห่างกัน  7 ชั่วโมง 44 นาที 45 วินาที\n"
          ]
        }
      ]
    }
  ]
}